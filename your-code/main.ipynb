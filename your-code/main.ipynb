{
 "cells": [
  {
   "cell_type": "markdown",
   "metadata": {},
   "source": [
    "# Before your start:\n",
    "- Read the README.md file\n",
    "- Comment as much as you can and use the resources in the README.md file\n",
    "- Happy learning!"
   ]
  },
  {
   "cell_type": "code",
   "execution_count": 183,
   "metadata": {},
   "outputs": [],
   "source": [
    "# Libraries\n",
    "import pandas as pd\n",
    "import numpy as np\n",
    "from sklearn.datasets import load_diabetes\n"
   ]
  },
  {
   "cell_type": "markdown",
   "metadata": {},
   "source": [
    "# Challenge 1 - Explore the Scikit-Learn Datasets\n",
    "\n",
    "Before starting to work on our own datasets, let's first explore the datasets that are included in this Python library. These datasets have been cleaned and formatted for use in ML algorithms."
   ]
  },
  {
   "cell_type": "markdown",
   "metadata": {},
   "source": [
    "First, we will load the diabetes dataset. Do this in the cell below by importing the datasets and then loading the dataset  to the `diabetes` variable using the `load_diabetes()` function ([documentation](https://scikit-learn.org/stable/modules/generated/sklearn.datasets.load_diabetes.html))."
   ]
  },
  {
   "cell_type": "code",
   "execution_count": 184,
   "metadata": {},
   "outputs": [],
   "source": [
    "# your code here\n",
    "\n",
    "diabetes_data = load_diabetes()\n",
    "\n"
   ]
  },
  {
   "cell_type": "markdown",
   "metadata": {},
   "source": [
    "Let's explore this variable by looking at the different attributes (keys) of `diabetes`. Note that the `load_diabetes` function does not return dataframes. It returns you a Python dictionary."
   ]
  },
  {
   "cell_type": "code",
   "execution_count": 185,
   "metadata": {},
   "outputs": [
    {
     "name": "stdout",
     "output_type": "stream",
     "text": [
      "\n",
      "Keys of diabetes dataset:\n",
      "dict_keys(['data', 'target', 'frame', 'DESCR', 'feature_names', 'data_filename', 'target_filename'])\n"
     ]
    }
   ],
   "source": [
    "# your code here\n",
    "print(\"\\nKeys of diabetes dataset:\")\n",
    "print(diabetes_data.keys())"
   ]
  },
  {
   "cell_type": "markdown",
   "metadata": {},
   "source": [
    "#### The next step is to read the description of the dataset. \n",
    "\n",
    "Print the description in the cell below using the `DESCR` attribute of the `diabetes` variable. Read the data description carefully to fully understand what each column represents.\n",
    "\n",
    "*Hint: If your output is ill-formatted by displaying linebreaks as `\\n`, it means you are not using the `print` function.*"
   ]
  },
  {
   "cell_type": "code",
   "execution_count": 186,
   "metadata": {},
   "outputs": [
    {
     "name": "stdout",
     "output_type": "stream",
     "text": [
      ".. _diabetes_dataset:\n",
      "\n",
      "Diabetes dataset\n",
      "----------------\n",
      "\n",
      "Ten baseline variables, age, sex, body mass index, average blood\n",
      "pressure, and six blood serum measurements were obtained for each of n =\n",
      "442 diabetes patients, as well as the response of interest, a\n",
      "quantitative measure of disease progression one year after baseline.\n",
      "\n",
      "**Data Set Characteristics:**\n",
      "\n",
      "  :Number of Instances: 442\n",
      "\n",
      "  :Number of Attributes: First 10 columns are numeric predictive values\n",
      "\n",
      "  :Target: Column 11 is a quantitative measure of disease progression one year after baseline\n",
      "\n",
      "  :Attribute Information:\n",
      "      - age     age in years\n",
      "      - sex\n",
      "      - bmi     body mass index\n",
      "      - bp      average blood pressure\n",
      "      - s1      tc, T-Cells (a type of white blood cells)\n",
      "      - s2      ldl, low-density lipoproteins\n",
      "      - s3      hdl, high-density lipoproteins\n",
      "      - s4      tch, thyroid stimulating hormone\n",
      "      - s5      ltg, lamotrigine\n",
      "      - s6      glu, blood sugar level\n",
      "\n",
      "Note: Each of these 10 feature variables have been mean centered and scaled by the standard deviation times `n_samples` (i.e. the sum of squares of each column totals 1).\n",
      "\n",
      "Source URL:\n",
      "https://www4.stat.ncsu.edu/~boos/var.select/diabetes.html\n",
      "\n",
      "For more information see:\n",
      "Bradley Efron, Trevor Hastie, Iain Johnstone and Robert Tibshirani (2004) \"Least Angle Regression,\" Annals of Statistics (with discussion), 407-499.\n",
      "(https://web.stanford.edu/~hastie/Papers/LARS/LeastAngle_2002.pdf)\n"
     ]
    }
   ],
   "source": [
    "print(diabetes_data.DESCR)"
   ]
  },
  {
   "cell_type": "markdown",
   "metadata": {},
   "source": [
    "#### Based on the data description, answer the following questions:\n",
    "\n",
    "1. How many attributes are there in the data? What do they mean?\n",
    "\n",
    "1. What is the relation between `diabetes['data']` and `diabetes['target']`?\n",
    "\n",
    "1. How many records are there in the data?"
   ]
  },
  {
   "cell_type": "code",
   "execution_count": 187,
   "metadata": {},
   "outputs": [],
   "source": [
    "# your answer here \n",
    "# 1. Attributes: 10 (age, sex, bmi, bp, s1-s6)\n",
    "# 2. Data \"Target\" = Column 11 is a quantitative measure of disease progression one year after baseline\n",
    "# 3. 442 Records"
   ]
  },
  {
   "cell_type": "markdown",
   "metadata": {},
   "source": [
    "#### Now explore what are contained in the *data* portion as well as the *target* portion of `diabetes`. \n",
    "\n",
    "Scikit-learn typically takes in 2D numpy arrays as input (though pandas dataframes are also accepted). Inspect the shape of `data` and `target`. Confirm they are consistent with the data description."
   ]
  },
  {
   "cell_type": "code",
   "execution_count": 188,
   "metadata": {},
   "outputs": [
    {
     "name": "stdout",
     "output_type": "stream",
     "text": [
      "Shape of Data: \n",
      "(442, 10)\n"
     ]
    }
   ],
   "source": [
    "print(\"Shape of Data: \")\n",
    "print(diabetes_data.data.shape)"
   ]
  },
  {
   "cell_type": "code",
   "execution_count": 189,
   "metadata": {},
   "outputs": [
    {
     "name": "stdout",
     "output_type": "stream",
     "text": [
      "Shape of Target: \n",
      "(442,)\n"
     ]
    }
   ],
   "source": [
    "print(\"Shape of Target: \")\n",
    "print(diabetes_data.target.shape)"
   ]
  },
  {
   "cell_type": "markdown",
   "metadata": {},
   "source": [
    "# Challenge 2 - Perform Supervised Learning on the Dataset"
   ]
  },
  {
   "cell_type": "markdown",
   "metadata": {},
   "source": [
    "The data have already been split to predictor (*data*) and response (*target*) variables. Given this information, we'll apply what we have previously learned about linear regression and apply the algorithm to the diabetes dataset.\n",
    "\n",
    "#### Let's briefly revisit the linear regression formula:\n",
    "\n",
    "\n",
    "$y = \\beta_0 + \\beta_1·X_1 + \\beta_2·X_2 + ... + \\beta_n·X_n + \\epsilon$\n",
    "\n",
    "\n",
    "where:\n",
    "\n",
    "- $X_1-X_n$: data \n",
    "- $\\beta_0$: intercept \n",
    "- $\\beta_1-\\beta_n$: coefficients \n",
    "- $\\epsilon$: error (cannot explained by model)\n",
    "- $y$: target\n",
    "\n",
    "Also take a look at the `sklearn.linear_model.LinearRegression` [documentation](https://scikit-learn.org/stable/modules/generated/sklearn.linear_model.LinearRegression.html).\n",
    "\n",
    "#### In the cell below, import the `linear_model` class from `sklearn`. "
   ]
  },
  {
   "cell_type": "code",
   "execution_count": 190,
   "metadata": {},
   "outputs": [],
   "source": [
    "# your code here\n",
    "from sklearn.linear_model import LinearRegression"
   ]
  },
  {
   "cell_type": "markdown",
   "metadata": {},
   "source": [
    "#### Create a new instance of the linear regression model and assign the new instance to the variable `diabetes_model`."
   ]
  },
  {
   "cell_type": "code",
   "execution_count": 191,
   "metadata": {},
   "outputs": [],
   "source": [
    "# your code here\n",
    "diabetes_model = LinearRegression()"
   ]
  },
  {
   "cell_type": "markdown",
   "metadata": {},
   "source": [
    "#### Next, let's split the training and test data.\n",
    "\n",
    "Define `diabetes_data_train`, `diabetes_target_train`, `diabetes_data_test`, and `diabetes_target_test`. Use the last 20 records for the test data and the rest for the training data."
   ]
  },
  {
   "cell_type": "code",
   "execution_count": 192,
   "metadata": {},
   "outputs": [],
   "source": [
    "# Getting X and y:\n",
    "diabetes_X, diabetes_y = datasets.load_diabetes(return_X_y=True)\n",
    "\n",
    "# Split the data into training/testing sets with 20 last records for test data\n",
    "diabetes_X_train = diabetes_X[:-20]\n",
    "diabetes_X_test = diabetes_X[-20:]\n",
    "\n",
    "\n",
    "diabetes_y_train = diabetes_y[:-20]\n",
    "diabetes_y_test = diabetes_y[-20:]"
   ]
  },
  {
   "cell_type": "markdown",
   "metadata": {},
   "source": [
    "Fit the training data and target to `diabetes_model`. Print the *intercept* and *coefficients* of the model."
   ]
  },
  {
   "cell_type": "code",
   "execution_count": 193,
   "metadata": {},
   "outputs": [
    {
     "data": {
      "text/plain": [
       "LinearRegression()"
      ]
     },
     "execution_count": 193,
     "metadata": {},
     "output_type": "execute_result"
    }
   ],
   "source": [
    "# Fitting the Model on diabetes X and y\n",
    "diabetes_model.fit(diabetes_X_train, diabetes_y_train)"
   ]
  },
  {
   "cell_type": "code",
   "execution_count": 194,
   "metadata": {},
   "outputs": [
    {
     "name": "stdout",
     "output_type": "stream",
     "text": [
      "Intercept: \n",
      " 152.76430691633442\n"
     ]
    }
   ],
   "source": [
    "# The Intercept\n",
    "print('Intercept: \\n', diabetes_model.intercept_)"
   ]
  },
  {
   "cell_type": "code",
   "execution_count": 195,
   "metadata": {},
   "outputs": [
    {
     "name": "stdout",
     "output_type": "stream",
     "text": [
      "Coefficients: \n",
      " [ 3.03499549e-01 -2.37639315e+02  5.10530605e+02  3.27736980e+02\n",
      " -8.14131709e+02  4.92814588e+02  1.02848452e+02  1.84606489e+02\n",
      "  7.43519617e+02  7.60951722e+01]\n"
     ]
    }
   ],
   "source": [
    "# The coefficients\n",
    "print('Coefficients: \\n', diabetes_model.coef_)"
   ]
  },
  {
   "cell_type": "markdown",
   "metadata": {},
   "source": [
    "#### Inspecting the results\n",
    "\n",
    "From the outputs you should have seen:\n",
    "\n",
    "- The intercept is a float number.\n",
    "- The coefficients are an array containing 10 float numbers.\n",
    "\n",
    "This is the linear regression model fitted to your training dataset.\n",
    "\n",
    "#### Using your fitted linear regression model, predict the *y* of `diabetes_data_test`."
   ]
  },
  {
   "cell_type": "code",
   "execution_count": 196,
   "metadata": {},
   "outputs": [
    {
     "data": {
      "text/plain": [
       "array([197.61846908, 155.43979328, 172.88665147, 111.53537279,\n",
       "       164.80054784, 131.06954875, 259.12237761, 100.47935157,\n",
       "       117.0601052 , 124.30503555, 218.36632793,  61.19831284,\n",
       "       132.25046751, 120.3332925 ,  52.54458691, 194.03798088,\n",
       "       102.57139702, 123.56604987, 211.0346317 ,  52.60335674])"
      ]
     },
     "execution_count": 196,
     "metadata": {},
     "output_type": "execute_result"
    }
   ],
   "source": [
    "# your code here\n",
    "# Make predictions using the testing set\n",
    "diabetes_y_pred = diabetes_model.predict(diabetes_X_test)\n",
    "diabetes_y_pred"
   ]
  },
  {
   "cell_type": "markdown",
   "metadata": {},
   "source": [
    "#### Print your `diabetes_target_test` and compare with the prediction. "
   ]
  },
  {
   "cell_type": "code",
   "execution_count": 197,
   "metadata": {},
   "outputs": [
    {
     "name": "stdout",
     "output_type": "stream",
     "text": [
      "diabetes_y_test: \n",
      "\n",
      "\n",
      "[233.  91. 111. 152. 120.  67. 310.  94. 183.  66. 173.  72.  49.  64.\n",
      "  48. 178. 104. 132. 220.  57.]\n"
     ]
    }
   ],
   "source": [
    "# Printing diabetes_y_test:\n",
    "print(\"diabetes_y_test: \")\n",
    "print(\"\\n\")\n",
    "print(diabetes_y_test)"
   ]
  },
  {
   "cell_type": "code",
   "execution_count": 198,
   "metadata": {},
   "outputs": [
    {
     "name": "stdout",
     "output_type": "stream",
     "text": [
      "test prediction: \n",
      "\n",
      "\n",
      "[197.61846908 155.43979328 172.88665147 111.53537279 164.80054784\n",
      " 131.06954875 259.12237761 100.47935157 117.0601052  124.30503555\n",
      " 218.36632793  61.19831284 132.25046751 120.3332925   52.54458691\n",
      " 194.03798088 102.57139702 123.56604987 211.0346317   52.60335674]\n"
     ]
    }
   ],
   "source": [
    "# Printing diabetes_y_pred:\n",
    "print(\"test prediction: \")\n",
    "print(\"\\n\")\n",
    "print(diabetes_y_pred)"
   ]
  },
  {
   "cell_type": "markdown",
   "metadata": {},
   "source": [
    "#### Is `diabetes_target_test` exactly the same as the model prediction? Explain."
   ]
  },
  {
   "cell_type": "code",
   "execution_count": 199,
   "metadata": {},
   "outputs": [],
   "source": [
    "# your answer here \n",
    "# No its now the same!"
   ]
  },
  {
   "cell_type": "markdown",
   "metadata": {},
   "source": [
    "# Bonus Challenge 1 - Hypothesis Testing with `statsmodels`\n",
    "\n",
    "After generating the linear regression model from the dataset, you probably wonder: then what? What is the statistical way to know if my model is reliable or not?\n",
    "\n",
    "Good question. We'll discuss that using Scikit-Learn in Challenge 5. But for now, let's use a fool-proof way by using the ([Linear Regression class of StatsModels](https://www.statsmodels.org/dev/regression.html)) which can also conduct linear regression analysis plus much more such as calcuating the F-score of the linear model as well as the standard errors and t-scores for each coefficient. The F-score and t-scores will tell you whether you can trust your linear model.\n",
    "\n",
    "To understand the statistical meaning of conducting hypothesis testing (e.g. F-test, t-test) for slopes, read [this webpage](https://online.stat.psu.edu/stat501/lesson/6/6.4) at your leisure time. We'll give you a brief overview next.\n",
    "\n",
    "* The F-test of your linear model is to verify whether at least one of your coefficients is significantly different from zero. Translating that into the *null hypothesis* and *alternative hypothesis*, that is:\n",
    "\n",
    "    $H_0 : \\beta_1 = \\beta_2 = ... = \\beta_{10} = 0$\n",
    "\n",
    "    $H_a$ : At least one $\\beta_j \\ne 0$ (for j = 1, 2, ..., 10)\n",
    "    \n",
    "    \n",
    "* The t-tests on each coefficient is to check whether the confidence interval for the variable contains zero. If the confidence interval contains zero, it means the null hypothesis for that variable is not rejected. In other words, this particular vaiable is not contributing to your linear model and you can remove it from your formula.\n",
    "\n",
    "Read the documentations of [StatsModels Linear Regression](https://www.statsmodels.org/dev/regression.html) as well as its [`OLS` class](https://www.statsmodels.org/dev/generated/statsmodels.regression.linear_model.OLS.html) which stands for *ordinary least squares*.\n",
    "\n",
    "#### In the next cell, analyze `diabetes_data_train` and `diabetes_target_train` with the linear regression model of `statsmodels`. Print the fit summary.\n",
    "\n",
    "Your output should look like:\n",
    "\n",
    "<div style=\"text-align:center\"><img src=\"../images/statsmodels.png\" width=600/></div>"
   ]
  },
  {
   "cell_type": "code",
   "execution_count": 200,
   "metadata": {},
   "outputs": [],
   "source": [
    "# your code here\n",
    "import statsmodels.api as sm\n",
    "\n"
   ]
  },
  {
   "cell_type": "markdown",
   "metadata": {},
   "source": [
    "#### Interpreting hypothesis testing results\n",
    "\n",
    "Answer the following questions in the cell below:\n",
    "\n",
    "1. What is the F-score of your linear model and is the null hypothesis rejected?\n",
    "\n",
    "1. Does any of the t-tests of the coefficients produce a confidence interval containing zero? What are they?\n",
    "\n",
    "1. How will you modify your linear reguression model according to the test results above?"
   ]
  },
  {
   "cell_type": "code",
   "execution_count": 201,
   "metadata": {},
   "outputs": [],
   "source": [
    "# your answer here\n"
   ]
  },
  {
   "cell_type": "markdown",
   "metadata": {},
   "source": [
    "# Challenge 3 - Peform Supervised Learning on a Pandas Dataframe"
   ]
  },
  {
   "cell_type": "markdown",
   "metadata": {},
   "source": [
    "Now that we have dealt with data that has been formatted for scikit-learn, let's look at data that we will need to format ourselves.\n",
    "\n",
    "In the next cell, load the `auto-mpg.csv` file included in this folder and assign it to a variable called `auto`."
   ]
  },
  {
   "cell_type": "code",
   "execution_count": 202,
   "metadata": {},
   "outputs": [],
   "source": [
    "# your code here\n",
    "auto = pd.read_csv(\"/Users/timeisenmenger/Desktop/Ironhack /Week7/Week7-Lab3/lab-supervised-learning-sklearn/data/auto-mpg.csv\")"
   ]
  },
  {
   "cell_type": "markdown",
   "metadata": {},
   "source": [
    "Look at the first 5 rows using the `head()` function:"
   ]
  },
  {
   "cell_type": "code",
   "execution_count": 203,
   "metadata": {},
   "outputs": [
    {
     "data": {
      "text/html": [
       "<div>\n",
       "<style scoped>\n",
       "    .dataframe tbody tr th:only-of-type {\n",
       "        vertical-align: middle;\n",
       "    }\n",
       "\n",
       "    .dataframe tbody tr th {\n",
       "        vertical-align: top;\n",
       "    }\n",
       "\n",
       "    .dataframe thead th {\n",
       "        text-align: right;\n",
       "    }\n",
       "</style>\n",
       "<table border=\"1\" class=\"dataframe\">\n",
       "  <thead>\n",
       "    <tr style=\"text-align: right;\">\n",
       "      <th></th>\n",
       "      <th>mpg</th>\n",
       "      <th>cylinders</th>\n",
       "      <th>displacement</th>\n",
       "      <th>horse_power</th>\n",
       "      <th>weight</th>\n",
       "      <th>acceleration</th>\n",
       "      <th>model_year</th>\n",
       "      <th>car_name</th>\n",
       "    </tr>\n",
       "  </thead>\n",
       "  <tbody>\n",
       "    <tr>\n",
       "      <th>0</th>\n",
       "      <td>18.0</td>\n",
       "      <td>8</td>\n",
       "      <td>307.0</td>\n",
       "      <td>130.0</td>\n",
       "      <td>3504</td>\n",
       "      <td>12.0</td>\n",
       "      <td>70</td>\n",
       "      <td>\\t\"chevrolet chevelle malibu\"</td>\n",
       "    </tr>\n",
       "    <tr>\n",
       "      <th>1</th>\n",
       "      <td>15.0</td>\n",
       "      <td>8</td>\n",
       "      <td>350.0</td>\n",
       "      <td>165.0</td>\n",
       "      <td>3693</td>\n",
       "      <td>11.5</td>\n",
       "      <td>70</td>\n",
       "      <td>\\t\"buick skylark 320\"</td>\n",
       "    </tr>\n",
       "    <tr>\n",
       "      <th>2</th>\n",
       "      <td>18.0</td>\n",
       "      <td>8</td>\n",
       "      <td>318.0</td>\n",
       "      <td>150.0</td>\n",
       "      <td>3436</td>\n",
       "      <td>11.0</td>\n",
       "      <td>70</td>\n",
       "      <td>\\t\"plymouth satellite\"</td>\n",
       "    </tr>\n",
       "    <tr>\n",
       "      <th>3</th>\n",
       "      <td>16.0</td>\n",
       "      <td>8</td>\n",
       "      <td>304.0</td>\n",
       "      <td>150.0</td>\n",
       "      <td>3433</td>\n",
       "      <td>12.0</td>\n",
       "      <td>70</td>\n",
       "      <td>\\t\"amc rebel sst\"</td>\n",
       "    </tr>\n",
       "    <tr>\n",
       "      <th>4</th>\n",
       "      <td>17.0</td>\n",
       "      <td>8</td>\n",
       "      <td>302.0</td>\n",
       "      <td>140.0</td>\n",
       "      <td>3449</td>\n",
       "      <td>10.5</td>\n",
       "      <td>70</td>\n",
       "      <td>\\t\"ford torino\"</td>\n",
       "    </tr>\n",
       "  </tbody>\n",
       "</table>\n",
       "</div>"
      ],
      "text/plain": [
       "    mpg  cylinders  displacement  horse_power  weight  acceleration  \\\n",
       "0  18.0          8         307.0        130.0    3504          12.0   \n",
       "1  15.0          8         350.0        165.0    3693          11.5   \n",
       "2  18.0          8         318.0        150.0    3436          11.0   \n",
       "3  16.0          8         304.0        150.0    3433          12.0   \n",
       "4  17.0          8         302.0        140.0    3449          10.5   \n",
       "\n",
       "   model_year                       car_name  \n",
       "0          70  \\t\"chevrolet chevelle malibu\"  \n",
       "1          70          \\t\"buick skylark 320\"  \n",
       "2          70         \\t\"plymouth satellite\"  \n",
       "3          70              \\t\"amc rebel sst\"  \n",
       "4          70                \\t\"ford torino\"  "
      ]
     },
     "execution_count": 203,
     "metadata": {},
     "output_type": "execute_result"
    }
   ],
   "source": [
    "# your code here\n",
    "auto.head()"
   ]
  },
  {
   "cell_type": "markdown",
   "metadata": {},
   "source": [
    "Evaluate the data to ensure that all numeric columns are correctly detected as such by pandas. If a column is misclassified as object, coerce it to numeric."
   ]
  },
  {
   "cell_type": "code",
   "execution_count": 204,
   "metadata": {},
   "outputs": [
    {
     "name": "stdout",
     "output_type": "stream",
     "text": [
      "<class 'pandas.core.frame.DataFrame'>\n",
      "RangeIndex: 398 entries, 0 to 397\n",
      "Data columns (total 8 columns):\n",
      " #   Column        Non-Null Count  Dtype  \n",
      "---  ------        --------------  -----  \n",
      " 0   mpg           398 non-null    float64\n",
      " 1   cylinders     398 non-null    int64  \n",
      " 2   displacement  398 non-null    float64\n",
      " 3   horse_power   392 non-null    float64\n",
      " 4   weight        398 non-null    int64  \n",
      " 5   acceleration  398 non-null    float64\n",
      " 6   model_year    398 non-null    int64  \n",
      " 7   car_name      398 non-null    object \n",
      "dtypes: float64(4), int64(3), object(1)\n",
      "memory usage: 25.0+ KB\n"
     ]
    }
   ],
   "source": [
    "# Getting an overview of the data frame\n",
    "auto.info()"
   ]
  },
  {
   "cell_type": "markdown",
   "metadata": {},
   "source": [
    "What is the newest model year and the oldest model year?"
   ]
  },
  {
   "cell_type": "code",
   "execution_count": 205,
   "metadata": {},
   "outputs": [
    {
     "data": {
      "text/plain": [
       "70"
      ]
     },
     "execution_count": 205,
     "metadata": {},
     "output_type": "execute_result"
    }
   ],
   "source": [
    "# your code here\n",
    "# OLDEST MODEL\n",
    "auto[\"model_year\"].min()"
   ]
  },
  {
   "cell_type": "code",
   "execution_count": 206,
   "metadata": {},
   "outputs": [
    {
     "data": {
      "text/plain": [
       "82"
      ]
     },
     "execution_count": 206,
     "metadata": {},
     "output_type": "execute_result"
    }
   ],
   "source": [
    "# NEWEST MODEL \n",
    "auto[\"model_year\"].max()"
   ]
  },
  {
   "cell_type": "markdown",
   "metadata": {},
   "source": [
    "Check the dataset for missing values and remove all rows containing at least one missing value."
   ]
  },
  {
   "cell_type": "code",
   "execution_count": 207,
   "metadata": {},
   "outputs": [
    {
     "data": {
      "text/plain": [
       "mpg             0\n",
       "cylinders       0\n",
       "displacement    0\n",
       "horse_power     6\n",
       "weight          0\n",
       "acceleration    0\n",
       "model_year      0\n",
       "car_name        0\n",
       "dtype: int64"
      ]
     },
     "execution_count": 207,
     "metadata": {},
     "output_type": "execute_result"
    }
   ],
   "source": [
    "# Checking for missing values\n",
    "auto.isna().sum()"
   ]
  },
  {
   "cell_type": "code",
   "execution_count": 208,
   "metadata": {},
   "outputs": [],
   "source": [
    "# Dropping rows with missing values\n",
    "auto.dropna(axis = 0, how ='any', inplace=True)"
   ]
  },
  {
   "cell_type": "code",
   "execution_count": 209,
   "metadata": {},
   "outputs": [
    {
     "data": {
      "text/plain": [
       "mpg             0\n",
       "cylinders       0\n",
       "displacement    0\n",
       "horse_power     0\n",
       "weight          0\n",
       "acceleration    0\n",
       "model_year      0\n",
       "car_name        0\n",
       "dtype: int64"
      ]
     },
     "execution_count": 209,
     "metadata": {},
     "output_type": "execute_result"
    }
   ],
   "source": [
    "# Check again if it worked\n",
    "auto.isna().sum()"
   ]
  },
  {
   "cell_type": "markdown",
   "metadata": {},
   "source": [
    "Find the frequency table for the `cylinders` column using the `value_counts()` function. How many possible values of cylinders are there?"
   ]
  },
  {
   "cell_type": "code",
   "execution_count": 210,
   "metadata": {},
   "outputs": [
    {
     "data": {
      "text/plain": [
       "4    199\n",
       "8    103\n",
       "6     83\n",
       "3      4\n",
       "5      3\n",
       "Name: cylinders, dtype: int64"
      ]
     },
     "execution_count": 210,
     "metadata": {},
     "output_type": "execute_result"
    }
   ],
   "source": [
    "# Frequency of possible values in cylinders column\n",
    "auto[\"cylinders\"].value_counts()"
   ]
  },
  {
   "cell_type": "markdown",
   "metadata": {},
   "source": [
    "We would like to generate a linear regression model that will predict mpg. To do this, first drop the `car_name` column since it does not contain any quantitative data. Next separate the dataframe to predictor and response variables. Separate those into test and training data with 80% of the data in the training set and the remainder in the test set. \n",
    "\n",
    "Assign the predictor and response training data to `X_train` and `y_train` respectively. Similarly, assign the predictor and response test data to `X_test` and `y_test`.\n",
    "\n",
    "*Hint: To separate data for training and test, use the `train_test_split` method we used in previous labs.*"
   ]
  },
  {
   "cell_type": "code",
   "execution_count": 211,
   "metadata": {},
   "outputs": [],
   "source": [
    "# Dropping \"Car_name\" column\n",
    "auto.drop([\"car_name\"], axis='columns', inplace=True)\n"
   ]
  },
  {
   "cell_type": "code",
   "execution_count": 212,
   "metadata": {},
   "outputs": [
    {
     "data": {
      "text/html": [
       "<div>\n",
       "<style scoped>\n",
       "    .dataframe tbody tr th:only-of-type {\n",
       "        vertical-align: middle;\n",
       "    }\n",
       "\n",
       "    .dataframe tbody tr th {\n",
       "        vertical-align: top;\n",
       "    }\n",
       "\n",
       "    .dataframe thead th {\n",
       "        text-align: right;\n",
       "    }\n",
       "</style>\n",
       "<table border=\"1\" class=\"dataframe\">\n",
       "  <thead>\n",
       "    <tr style=\"text-align: right;\">\n",
       "      <th></th>\n",
       "      <th>mpg</th>\n",
       "      <th>cylinders</th>\n",
       "      <th>displacement</th>\n",
       "      <th>horse_power</th>\n",
       "      <th>weight</th>\n",
       "      <th>acceleration</th>\n",
       "      <th>model_year</th>\n",
       "    </tr>\n",
       "  </thead>\n",
       "  <tbody>\n",
       "    <tr>\n",
       "      <th>0</th>\n",
       "      <td>18.0</td>\n",
       "      <td>8</td>\n",
       "      <td>307.0</td>\n",
       "      <td>130.0</td>\n",
       "      <td>3504</td>\n",
       "      <td>12.0</td>\n",
       "      <td>70</td>\n",
       "    </tr>\n",
       "    <tr>\n",
       "      <th>1</th>\n",
       "      <td>15.0</td>\n",
       "      <td>8</td>\n",
       "      <td>350.0</td>\n",
       "      <td>165.0</td>\n",
       "      <td>3693</td>\n",
       "      <td>11.5</td>\n",
       "      <td>70</td>\n",
       "    </tr>\n",
       "    <tr>\n",
       "      <th>2</th>\n",
       "      <td>18.0</td>\n",
       "      <td>8</td>\n",
       "      <td>318.0</td>\n",
       "      <td>150.0</td>\n",
       "      <td>3436</td>\n",
       "      <td>11.0</td>\n",
       "      <td>70</td>\n",
       "    </tr>\n",
       "    <tr>\n",
       "      <th>3</th>\n",
       "      <td>16.0</td>\n",
       "      <td>8</td>\n",
       "      <td>304.0</td>\n",
       "      <td>150.0</td>\n",
       "      <td>3433</td>\n",
       "      <td>12.0</td>\n",
       "      <td>70</td>\n",
       "    </tr>\n",
       "    <tr>\n",
       "      <th>4</th>\n",
       "      <td>17.0</td>\n",
       "      <td>8</td>\n",
       "      <td>302.0</td>\n",
       "      <td>140.0</td>\n",
       "      <td>3449</td>\n",
       "      <td>10.5</td>\n",
       "      <td>70</td>\n",
       "    </tr>\n",
       "  </tbody>\n",
       "</table>\n",
       "</div>"
      ],
      "text/plain": [
       "    mpg  cylinders  displacement  horse_power  weight  acceleration  \\\n",
       "0  18.0          8         307.0        130.0    3504          12.0   \n",
       "1  15.0          8         350.0        165.0    3693          11.5   \n",
       "2  18.0          8         318.0        150.0    3436          11.0   \n",
       "3  16.0          8         304.0        150.0    3433          12.0   \n",
       "4  17.0          8         302.0        140.0    3449          10.5   \n",
       "\n",
       "   model_year  \n",
       "0          70  \n",
       "1          70  \n",
       "2          70  \n",
       "3          70  \n",
       "4          70  "
      ]
     },
     "execution_count": 212,
     "metadata": {},
     "output_type": "execute_result"
    }
   ],
   "source": [
    "# Check Data Frame again\n",
    "auto.head()"
   ]
  },
  {
   "cell_type": "code",
   "execution_count": 213,
   "metadata": {},
   "outputs": [],
   "source": [
    "# Naming my X and y\n",
    "# y = mpg (first column, index 0)\n",
    "# X = all other columns, starting from index 1\n",
    "\n",
    "X = auto.iloc[:, 1:].values\n",
    "y = auto.iloc[:, :1].values"
   ]
  },
  {
   "cell_type": "code",
   "execution_count": 214,
   "metadata": {},
   "outputs": [],
   "source": [
    "# importing train_test_split from sklearn\n",
    "from sklearn.model_selection import train_test_split\n",
    "\n",
    "# Setting up parameters with test size 20% and training size 80% \n",
    "X_train, X_test, y_train, y_test = train_test_split(X, y, test_size=0.2, random_state=123)"
   ]
  },
  {
   "cell_type": "code",
   "execution_count": 215,
   "metadata": {},
   "outputs": [
    {
     "data": {
      "text/plain": [
       "array([[8.000e+00, 4.540e+02, 2.200e+02, 4.354e+03, 9.000e+00, 7.000e+01],\n",
       "       [4.000e+00, 8.600e+01, 6.500e+01, 1.975e+03, 1.520e+01, 7.900e+01],\n",
       "       [4.000e+00, 1.210e+02, 1.100e+02, 2.660e+03, 1.400e+01, 7.300e+01],\n",
       "       ...,\n",
       "       [4.000e+00, 8.500e+01, 6.500e+01, 2.110e+03, 1.920e+01, 8.000e+01],\n",
       "       [4.000e+00, 1.560e+02, 9.200e+01, 2.585e+03, 1.450e+01, 8.200e+01],\n",
       "       [4.000e+00, 1.120e+02, 8.500e+01, 2.575e+03, 1.620e+01, 8.200e+01]])"
      ]
     },
     "execution_count": 215,
     "metadata": {},
     "output_type": "execute_result"
    }
   ],
   "source": [
    "X_train"
   ]
  },
  {
   "cell_type": "markdown",
   "metadata": {},
   "source": [
    "Now we will processed and peform linear regression on this data to predict the mpg for each vehicle. \n",
    "\n",
    "#### In the next cell, create an instance of the linear regression model and call it `auto_model`. Fit `auto_model` with your training data."
   ]
  },
  {
   "cell_type": "code",
   "execution_count": 216,
   "metadata": {},
   "outputs": [],
   "source": [
    "# Creating instance of LR Model\n",
    "\n",
    "auto_model = LinearRegression()"
   ]
  },
  {
   "cell_type": "code",
   "execution_count": 217,
   "metadata": {},
   "outputs": [
    {
     "data": {
      "text/plain": [
       "LinearRegression()"
      ]
     },
     "execution_count": 217,
     "metadata": {},
     "output_type": "execute_result"
    }
   ],
   "source": [
    "# Fit the model\n",
    "\n",
    "auto_model.fit(X_train, y_train)"
   ]
  },
  {
   "cell_type": "markdown",
   "metadata": {},
   "source": [
    "\n",
    "# Challenge 4 - Evaluate the Model\n",
    "\n",
    "In addition to evaluating your model with F-test and t-test, you can also use the *Coefficient of Determination* (a.k.a. *r squared score*). This method does not simply tell *yes* or *no* about the model fit but instead indicates how much variation can be explained by the model. Based on the r squared score, you can decide whether to improve your model in order to obtain a better fit.\n",
    "\n",
    "You can learn about the r squared score [here](https://en.wikipedia.org/wiki/Coefficient_of_determination). Its formula is:\n",
    "\n",
    "<div style=\"text-align:center\"><img src=\"../images/r-squared.png\" width=300/></div>\n",
    "\n",
    "where:\n",
    "\n",
    "* yi is an actual data point.\n",
    "* ŷi is the corresponding data point on the estimated regression line.\n",
    "\n",
    "By adding the squares of the difference between all yi-ŷi pairs, we have a measure called SSE (*error sum of squares*) which is an application of the r squared score to indicate the extent to which the estimated regression model is different from the actual data. And we attribute that difference to the random error that is unavoidable in the real world. Obviously, we want the SSE value to be as small as possible.\n",
    "\n",
    "#### In the next cell, compute the predicted *y* based on `X_train` and call it `y_pred`. Then calcualte the r squared score between `y_pred` and `y_train` which indicates how well the estimated regression model fits the training data.\n",
    "\n",
    "*Hint: r squared score can be calculated using `sklearn.metrics.r2_score` ([documentation](https://scikit-learn.org/stable/modules/generated/sklearn.metrics.r2_score.html)).*"
   ]
  },
  {
   "cell_type": "code",
   "execution_count": 218,
   "metadata": {},
   "outputs": [
    {
     "data": {
      "text/plain": [
       "array([[10.84471862],\n",
       "       [32.0954254 ],\n",
       "       [23.47903362],\n",
       "       [27.54206641],\n",
       "       [26.58301934],\n",
       "       [32.41072242],\n",
       "       [29.0820807 ],\n",
       "       [22.29098186],\n",
       "       [11.13224522],\n",
       "       [24.48657958],\n",
       "       [33.23896902],\n",
       "       [31.02424542],\n",
       "       [14.72272886],\n",
       "       [16.58014186],\n",
       "       [18.31625476],\n",
       "       [30.33778579],\n",
       "       [ 9.86813601],\n",
       "       [18.92042742],\n",
       "       [20.5702619 ],\n",
       "       [22.43241992],\n",
       "       [20.09654856],\n",
       "       [13.06576698],\n",
       "       [18.07699573],\n",
       "       [33.52099053],\n",
       "       [27.11397061],\n",
       "       [24.51028084],\n",
       "       [23.26576037],\n",
       "       [22.24687699],\n",
       "       [25.35357741],\n",
       "       [25.832873  ],\n",
       "       [24.94393032],\n",
       "       [34.82232986],\n",
       "       [10.65831653],\n",
       "       [18.73048528],\n",
       "       [28.63643231],\n",
       "       [25.69366766],\n",
       "       [24.54857296],\n",
       "       [29.10989636],\n",
       "       [11.49531691],\n",
       "       [10.42672853],\n",
       "       [30.26281047],\n",
       "       [29.76700083],\n",
       "       [26.46331488],\n",
       "       [25.17633716],\n",
       "       [25.65513125],\n",
       "       [31.58946066],\n",
       "       [25.69873739],\n",
       "       [26.01405423],\n",
       "       [22.68240338],\n",
       "       [23.49545526],\n",
       "       [14.17662152],\n",
       "       [ 9.39826599],\n",
       "       [27.95700811],\n",
       "       [34.72610212],\n",
       "       [16.64156771],\n",
       "       [25.38889165],\n",
       "       [13.13671458],\n",
       "       [29.06954951],\n",
       "       [23.41174847],\n",
       "       [31.09523018],\n",
       "       [26.5691066 ],\n",
       "       [30.36385836],\n",
       "       [10.7834325 ],\n",
       "       [32.81043586],\n",
       "       [31.82117795],\n",
       "       [34.85712579],\n",
       "       [32.28353961],\n",
       "       [33.73753584],\n",
       "       [15.12804742],\n",
       "       [12.73683409],\n",
       "       [22.5454012 ],\n",
       "       [19.95570844],\n",
       "       [28.55317006],\n",
       "       [34.5841656 ],\n",
       "       [19.4846994 ],\n",
       "       [25.43993926],\n",
       "       [26.38459587],\n",
       "       [12.52523773],\n",
       "       [26.21846331],\n",
       "       [29.61578698],\n",
       "       [30.98362029],\n",
       "       [10.15739263],\n",
       "       [11.78850987],\n",
       "       [25.34419458],\n",
       "       [29.12481887],\n",
       "       [23.51311355],\n",
       "       [31.78215904],\n",
       "       [30.75020762],\n",
       "       [19.43396493],\n",
       "       [21.13012943],\n",
       "       [27.11971389],\n",
       "       [ 8.6190316 ],\n",
       "       [32.70654188],\n",
       "       [31.24917994],\n",
       "       [33.38963551],\n",
       "       [25.32732572],\n",
       "       [32.85697602],\n",
       "       [25.01826145],\n",
       "       [23.13236632],\n",
       "       [31.11317567],\n",
       "       [10.87898662],\n",
       "       [31.31894505],\n",
       "       [14.13379388],\n",
       "       [27.17691677],\n",
       "       [20.67703313],\n",
       "       [16.60324308],\n",
       "       [11.82869131],\n",
       "       [30.40540303],\n",
       "       [29.53754462],\n",
       "       [31.03835496],\n",
       "       [27.5147756 ],\n",
       "       [21.54111563],\n",
       "       [16.43485883],\n",
       "       [32.07122662],\n",
       "       [25.21327304],\n",
       "       [11.471444  ],\n",
       "       [16.81592586],\n",
       "       [33.87510059],\n",
       "       [24.01784981],\n",
       "       [22.11686839],\n",
       "       [32.68260437],\n",
       "       [33.97478215],\n",
       "       [15.22498115],\n",
       "       [10.38177454],\n",
       "       [ 8.95405616],\n",
       "       [31.98008685],\n",
       "       [20.85434641],\n",
       "       [30.02436223],\n",
       "       [17.16287567],\n",
       "       [29.57593371],\n",
       "       [10.67121854],\n",
       "       [17.00200491],\n",
       "       [31.20360137],\n",
       "       [24.50803278],\n",
       "       [11.64227054],\n",
       "       [17.80014527],\n",
       "       [21.41518789],\n",
       "       [28.00181573],\n",
       "       [21.17040656],\n",
       "       [31.86290535],\n",
       "       [27.8531311 ],\n",
       "       [29.28551831],\n",
       "       [16.38940074],\n",
       "       [30.34681667],\n",
       "       [19.96303739],\n",
       "       [26.63983188],\n",
       "       [26.78932236],\n",
       "       [21.03771218],\n",
       "       [30.21326575],\n",
       "       [31.44042565],\n",
       "       [19.29825784],\n",
       "       [16.19484084],\n",
       "       [24.98124159],\n",
       "       [22.40776114],\n",
       "       [23.86570717],\n",
       "       [16.17895978],\n",
       "       [13.68872719],\n",
       "       [28.95159062],\n",
       "       [12.85567041],\n",
       "       [31.18154838],\n",
       "       [32.87566449],\n",
       "       [29.94611618],\n",
       "       [11.34686965],\n",
       "       [17.9381393 ],\n",
       "       [32.98511805],\n",
       "       [26.16131636],\n",
       "       [20.837328  ],\n",
       "       [18.08912114],\n",
       "       [32.44454463],\n",
       "       [20.40880393],\n",
       "       [14.77271971],\n",
       "       [23.59993668],\n",
       "       [32.20538331],\n",
       "       [35.10563977],\n",
       "       [24.68804003],\n",
       "       [28.10494268],\n",
       "       [26.01947009],\n",
       "       [19.28969253],\n",
       "       [18.83708342],\n",
       "       [29.59642922],\n",
       "       [29.11647659],\n",
       "       [20.50279217],\n",
       "       [28.59074734],\n",
       "       [32.05528489],\n",
       "       [12.6082723 ],\n",
       "       [30.51435505],\n",
       "       [24.24119927],\n",
       "       [22.13846413],\n",
       "       [24.00480446],\n",
       "       [23.99405968],\n",
       "       [19.11200062],\n",
       "       [29.39328099],\n",
       "       [21.19803557],\n",
       "       [26.03808565],\n",
       "       [11.99838293],\n",
       "       [32.57385846],\n",
       "       [28.27346155],\n",
       "       [15.59373422],\n",
       "       [17.16591045],\n",
       "       [10.68148376],\n",
       "       [20.73323778],\n",
       "       [25.82658818],\n",
       "       [21.74993158],\n",
       "       [22.31385479],\n",
       "       [26.00064402],\n",
       "       [15.83715754],\n",
       "       [27.73478238],\n",
       "       [21.95427549],\n",
       "       [25.64083395],\n",
       "       [22.20180409],\n",
       "       [30.85576956],\n",
       "       [17.06060772],\n",
       "       [14.27084994],\n",
       "       [25.54060801],\n",
       "       [17.43771187],\n",
       "       [19.94749387],\n",
       "       [30.28045368],\n",
       "       [25.96611385],\n",
       "       [28.46769675],\n",
       "       [27.44926462],\n",
       "       [11.06406424],\n",
       "       [28.31941609],\n",
       "       [19.42138831],\n",
       "       [22.93856658],\n",
       "       [13.86651185],\n",
       "       [27.78459696],\n",
       "       [23.40081263],\n",
       "       [15.04974597],\n",
       "       [32.47270942],\n",
       "       [22.34036187],\n",
       "       [33.62769981],\n",
       "       [ 8.1589767 ],\n",
       "       [28.14836511],\n",
       "       [27.15936486],\n",
       "       [10.10290779],\n",
       "       [15.86356221],\n",
       "       [25.32341306],\n",
       "       [28.10096714],\n",
       "       [29.30229721],\n",
       "       [25.2701313 ],\n",
       "       [14.37374718],\n",
       "       [24.38067063],\n",
       "       [28.23759576],\n",
       "       [30.41988811],\n",
       "       [27.67424804],\n",
       "       [ 9.65967555],\n",
       "       [28.60455937],\n",
       "       [15.28458538],\n",
       "       [ 4.99207237],\n",
       "       [30.29719902],\n",
       "       [31.66313775],\n",
       "       [23.27224396],\n",
       "       [26.01292048],\n",
       "       [30.31574759],\n",
       "       [11.39324839],\n",
       "       [24.69453743],\n",
       "       [29.77956043],\n",
       "       [17.1443272 ],\n",
       "       [34.77034124],\n",
       "       [29.11059721],\n",
       "       [26.22816103],\n",
       "       [22.3656942 ],\n",
       "       [24.22134871],\n",
       "       [23.89958159],\n",
       "       [30.28771573],\n",
       "       [12.68705635],\n",
       "       [26.61958261],\n",
       "       [30.17734468],\n",
       "       [25.51299228],\n",
       "       [23.53424202],\n",
       "       [19.56670015],\n",
       "       [32.13235944],\n",
       "       [23.45345813],\n",
       "       [18.69029474],\n",
       "       [26.8489105 ],\n",
       "       [31.83545044],\n",
       "       [20.50469471],\n",
       "       [10.2909952 ],\n",
       "       [22.8064059 ],\n",
       "       [33.02304402],\n",
       "       [14.37908794],\n",
       "       [32.05051752],\n",
       "       [11.80869588],\n",
       "       [34.63529013],\n",
       "       [15.65682095],\n",
       "       [28.8399608 ],\n",
       "       [27.65226934],\n",
       "       [10.59709376],\n",
       "       [23.85927886],\n",
       "       [34.60659275],\n",
       "       [26.63990859],\n",
       "       [30.65039152],\n",
       "       [35.42460583],\n",
       "       [26.1924373 ],\n",
       "       [21.29784176],\n",
       "       [21.40306519],\n",
       "       [11.61278745],\n",
       "       [17.63898444],\n",
       "       [19.45553354],\n",
       "       [26.0399074 ],\n",
       "       [20.26468419],\n",
       "       [19.78737477],\n",
       "       [30.76662266],\n",
       "       [26.26024482],\n",
       "       [17.33934493],\n",
       "       [22.25865268],\n",
       "       [26.59842924],\n",
       "       [21.05390678],\n",
       "       [15.32835558],\n",
       "       [21.31277756],\n",
       "       [32.70684715],\n",
       "       [30.77919105],\n",
       "       [30.92291619]])"
      ]
     },
     "execution_count": 218,
     "metadata": {},
     "output_type": "execute_result"
    }
   ],
   "source": [
    "# Predicting y_pred on X_train\n",
    "auto_y_pred = auto_model.predict(X_train)\n",
    "auto_y_pred"
   ]
  },
  {
   "cell_type": "code",
   "execution_count": 219,
   "metadata": {},
   "outputs": [],
   "source": [
    "# Importing the r2 function\n",
    "from sklearn.metrics import r2_score"
   ]
  },
  {
   "cell_type": "code",
   "execution_count": 220,
   "metadata": {},
   "outputs": [
    {
     "name": "stdout",
     "output_type": "stream",
     "text": [
      "r2 is: \n",
      "\n",
      "\n",
      "0.8198690008457217\n"
     ]
    }
   ],
   "source": [
    "# Calculating the r2\n",
    "r2 = r2_score(y_train, auto_y_pred)\n",
    "\n",
    "print(\"r2 is: \")\n",
    "print(\"\\n\")\n",
    "print(r2)"
   ]
  },
  {
   "cell_type": "code",
   "execution_count": 221,
   "metadata": {},
   "outputs": [],
   "source": [
    "# your code here\n"
   ]
  },
  {
   "cell_type": "markdown",
   "metadata": {},
   "source": [
    "#### Our next step is to evaluate the model using the test data. \n",
    "\n",
    "We would like to ensure that our model is not overfitting the data. This means that our model was made to fit too closely to the training data by being overly complex. If a model is overfitted, it is not generalizable to data outside the training data. In that case, we need to reduce the complexity of the model by removing certain features (variables).\n",
    "\n",
    "In the cell below, use the model to generate the predicted values for the test data and assign them to `y_test_pred`. Compute the r squared score of the predicted `y_test_pred` and the oberserved `y_test` data."
   ]
  },
  {
   "cell_type": "code",
   "execution_count": 222,
   "metadata": {
    "scrolled": true
   },
   "outputs": [
    {
     "data": {
      "text/plain": [
       "array([[16.93513471],\n",
       "       [31.44386166],\n",
       "       [13.92513989],\n",
       "       [25.33100232],\n",
       "       [30.86517173],\n",
       "       [16.12912297],\n",
       "       [29.84316806],\n",
       "       [20.79424901],\n",
       "       [17.51682663],\n",
       "       [33.5962678 ],\n",
       "       [15.16484689],\n",
       "       [24.05681003],\n",
       "       [13.43861853],\n",
       "       [30.4849891 ],\n",
       "       [15.96175622],\n",
       "       [22.14058281],\n",
       "       [29.18249959],\n",
       "       [ 7.26444002],\n",
       "       [12.34592112],\n",
       "       [14.11414099],\n",
       "       [22.31888799],\n",
       "       [28.78553786],\n",
       "       [29.70553983],\n",
       "       [35.29035859],\n",
       "       [34.53708373],\n",
       "       [16.04079521],\n",
       "       [26.86016519],\n",
       "       [31.90293837],\n",
       "       [22.70010858],\n",
       "       [27.39754987],\n",
       "       [23.10237142],\n",
       "       [31.48471994],\n",
       "       [17.0945224 ],\n",
       "       [20.83682113],\n",
       "       [27.73349153],\n",
       "       [28.37221631],\n",
       "       [27.18683665],\n",
       "       [27.98877592],\n",
       "       [26.11857502],\n",
       "       [11.08719175],\n",
       "       [17.4036681 ],\n",
       "       [23.45466615],\n",
       "       [25.0567287 ],\n",
       "       [21.985068  ],\n",
       "       [20.55618207],\n",
       "       [20.54065738],\n",
       "       [28.84321132],\n",
       "       [29.74538267],\n",
       "       [24.29508899],\n",
       "       [20.39074464],\n",
       "       [20.98390062],\n",
       "       [33.4709278 ],\n",
       "       [16.27399269],\n",
       "       [22.37692882],\n",
       "       [22.76363708],\n",
       "       [14.67741727],\n",
       "       [ 7.73764472],\n",
       "       [24.38242977],\n",
       "       [19.44958426],\n",
       "       [30.11714922],\n",
       "       [16.5131058 ],\n",
       "       [ 6.38634806],\n",
       "       [24.59175118],\n",
       "       [27.26877553],\n",
       "       [20.30193067],\n",
       "       [33.77916119],\n",
       "       [30.9261231 ],\n",
       "       [24.59543879],\n",
       "       [26.23317754],\n",
       "       [22.89863311],\n",
       "       [25.04347344],\n",
       "       [27.96854099],\n",
       "       [25.57556152],\n",
       "       [11.91524446],\n",
       "       [26.96353645],\n",
       "       [30.35319343],\n",
       "       [28.79986239],\n",
       "       [13.57871975],\n",
       "       [21.44849095]])"
      ]
     },
     "execution_count": 222,
     "metadata": {},
     "output_type": "execute_result"
    }
   ],
   "source": [
    "# Predicting y_pred on X_test\n",
    "y_test_pred = auto_model.predict(X_test)\n",
    "y_test_pred"
   ]
  },
  {
   "cell_type": "code",
   "execution_count": 223,
   "metadata": {},
   "outputs": [
    {
     "name": "stdout",
     "output_type": "stream",
     "text": [
      "r2 is: \n",
      "\n",
      "\n",
      "0.7507754274816081\n"
     ]
    }
   ],
   "source": [
    "# Calculating the r2\n",
    "r2_test = r2_score(y_test, y_test_pred)\n",
    "\n",
    "print(\"r2 is: \")\n",
    "print(\"\\n\")\n",
    "print(r2_test)"
   ]
  },
  {
   "cell_type": "code",
   "execution_count": 224,
   "metadata": {},
   "outputs": [],
   "source": [
    "# your code here\n"
   ]
  },
  {
   "cell_type": "markdown",
   "metadata": {},
   "source": [
    "#### Explaining the results\n",
    "\n",
    "Please, compare the results for the training and test sets and comment. What can you say?"
   ]
  },
  {
   "cell_type": "code",
   "execution_count": 225,
   "metadata": {},
   "outputs": [],
   "source": [
    "# your answer here\n"
   ]
  },
  {
   "cell_type": "markdown",
   "metadata": {},
   "source": [
    "# Challenge 5 - Improve the Model Fit\n",
    "\n",
    "While the most common way to improve the fit of a model is by using [regularization](https://datanice.github.io/machine-learning-101-what-is-regularization-interactive.html), there are other simpler ways to improve model fit. The first is to create a simpler model. The second is to increase the train sample size.\n",
    "\n",
    "Let us start with the easier option and increase our train sample size to 90% of the data. Create a new test train split and name the new predictors and response variables `X_train09`, `X_test09`, `y_train09`, `y_test09`."
   ]
  },
  {
   "cell_type": "code",
   "execution_count": 226,
   "metadata": {},
   "outputs": [],
   "source": [
    "# your code here\n",
    "X_train09, X_test09, y_train09, y_test09 = train_test_split(X, y, test_size=0.1, random_state=123)"
   ]
  },
  {
   "cell_type": "markdown",
   "metadata": {},
   "source": [
    "Initialize a new linear regression model. Name this model `auto_model09`. Fit the model to the new sample (training) data."
   ]
  },
  {
   "cell_type": "code",
   "execution_count": 227,
   "metadata": {},
   "outputs": [
    {
     "data": {
      "text/plain": [
       "LinearRegression()"
      ]
     },
     "execution_count": 227,
     "metadata": {},
     "output_type": "execute_result"
    }
   ],
   "source": [
    "# your code here\n",
    "auto_model09 = LinearRegression()\n",
    "auto_model09.fit(X_train09, y_train09)"
   ]
  },
  {
   "cell_type": "markdown",
   "metadata": {},
   "source": [
    "Compute the predicted values and r squared score for our new model and new sample data."
   ]
  },
  {
   "cell_type": "code",
   "execution_count": 228,
   "metadata": {},
   "outputs": [],
   "source": [
    "# your code here\n"
   ]
  },
  {
   "cell_type": "code",
   "execution_count": 229,
   "metadata": {
    "scrolled": true
   },
   "outputs": [
    {
     "data": {
      "text/plain": [
       "array([[17.28581547],\n",
       "       [23.25345667],\n",
       "       [24.81188554],\n",
       "       [22.4177025 ],\n",
       "       [20.80868894],\n",
       "       [18.61241072],\n",
       "       [28.35329336],\n",
       "       [29.6366806 ],\n",
       "       [24.48406457],\n",
       "       [20.71136033],\n",
       "       [21.36235853],\n",
       "       [33.18373952],\n",
       "       [15.56562107],\n",
       "       [21.61007603],\n",
       "       [22.25553031],\n",
       "       [14.28819493],\n",
       "       [ 8.2027302 ],\n",
       "       [24.67825266],\n",
       "       [19.71386959],\n",
       "       [29.92820983],\n",
       "       [16.03334477],\n",
       "       [ 6.88158222],\n",
       "       [24.70439702],\n",
       "       [26.96388295],\n",
       "       [19.85057695],\n",
       "       [33.57141161],\n",
       "       [30.93200763],\n",
       "       [24.69463358],\n",
       "       [25.96736979],\n",
       "       [23.05301631],\n",
       "       [24.96269752],\n",
       "       [27.76528253],\n",
       "       [25.77918736],\n",
       "       [12.0524889 ],\n",
       "       [26.59231729],\n",
       "       [30.09116397],\n",
       "       [28.05791319],\n",
       "       [13.73175796],\n",
       "       [21.64042801],\n",
       "       [10.28397465],\n",
       "       [32.01145178],\n",
       "       [23.55706492],\n",
       "       [27.65619393],\n",
       "       [26.24830905],\n",
       "       [32.28096288],\n",
       "       [28.95556035],\n",
       "       [22.38921808],\n",
       "       [11.5795691 ],\n",
       "       [24.30407478],\n",
       "       [33.21552005],\n",
       "       [30.54129035],\n",
       "       [14.93282878],\n",
       "       [17.0131623 ],\n",
       "       [17.94306488],\n",
       "       [30.33433618],\n",
       "       [10.02285847],\n",
       "       [19.20022303],\n",
       "       [20.86553218],\n",
       "       [22.37588366],\n",
       "       [19.73591478],\n",
       "       [13.36938485],\n",
       "       [18.201888  ],\n",
       "       [33.10241049],\n",
       "       [26.81935612],\n",
       "       [24.60927062],\n",
       "       [22.64261523],\n",
       "       [22.65373854],\n",
       "       [25.26251667],\n",
       "       [26.01019331],\n",
       "       [24.83792326],\n",
       "       [34.2348446 ],\n",
       "       [10.16505863],\n",
       "       [18.43702633],\n",
       "       [28.54883612],\n",
       "       [25.50723941],\n",
       "       [24.75073932],\n",
       "       [29.24453529],\n",
       "       [11.34728515],\n",
       "       [10.20659452],\n",
       "       [30.22081539],\n",
       "       [29.63931007],\n",
       "       [26.62172064],\n",
       "       [25.29112503],\n",
       "       [25.7989809 ],\n",
       "       [31.35937872],\n",
       "       [25.88758797],\n",
       "       [25.98593775],\n",
       "       [22.72068345],\n",
       "       [23.79848061],\n",
       "       [14.15279103],\n",
       "       [ 8.89538714],\n",
       "       [27.99319557],\n",
       "       [34.36560648],\n",
       "       [17.432868  ],\n",
       "       [25.58659468],\n",
       "       [13.12803168],\n",
       "       [28.74072068],\n",
       "       [23.3499153 ],\n",
       "       [31.01248871],\n",
       "       [26.629641  ],\n",
       "       [30.40758404],\n",
       "       [11.2942938 ],\n",
       "       [32.58339601],\n",
       "       [31.91715594],\n",
       "       [34.03461434],\n",
       "       [31.96479284],\n",
       "       [33.24530317],\n",
       "       [15.23368227],\n",
       "       [12.99648173],\n",
       "       [22.12085037],\n",
       "       [19.57940373],\n",
       "       [28.47200251],\n",
       "       [34.29670214],\n",
       "       [19.92431747],\n",
       "       [25.29627208],\n",
       "       [26.58077008],\n",
       "       [12.67482071],\n",
       "       [26.32282442],\n",
       "       [29.68967336],\n",
       "       [31.01045095],\n",
       "       [10.3104573 ],\n",
       "       [11.85981065],\n",
       "       [25.41248515],\n",
       "       [28.86861382],\n",
       "       [23.72887004],\n",
       "       [31.72500743],\n",
       "       [30.62641474],\n",
       "       [19.66329103],\n",
       "       [20.76386909],\n",
       "       [26.51963668],\n",
       "       [ 8.62641964],\n",
       "       [32.06234884],\n",
       "       [31.0206444 ],\n",
       "       [33.15139898],\n",
       "       [25.9868046 ],\n",
       "       [32.48923706],\n",
       "       [25.2179345 ],\n",
       "       [23.02963964],\n",
       "       [31.06209175],\n",
       "       [10.434299  ],\n",
       "       [31.21273978],\n",
       "       [13.05734417],\n",
       "       [26.95060167],\n",
       "       [20.76369237],\n",
       "       [16.24233293],\n",
       "       [12.10321503],\n",
       "       [30.54778116],\n",
       "       [29.47016341],\n",
       "       [30.84092595],\n",
       "       [27.60232561],\n",
       "       [21.10527566],\n",
       "       [16.32958406],\n",
       "       [31.75714755],\n",
       "       [25.33543926],\n",
       "       [11.54142694],\n",
       "       [17.38016287],\n",
       "       [33.53866773],\n",
       "       [23.97444607],\n",
       "       [22.13294088],\n",
       "       [32.47744219],\n",
       "       [33.53191497],\n",
       "       [14.87279668],\n",
       "       [ 9.99817516],\n",
       "       [ 8.28577534],\n",
       "       [31.66339628],\n",
       "       [21.027794  ],\n",
       "       [29.72267623],\n",
       "       [17.64649246],\n",
       "       [29.22608631],\n",
       "       [11.05705373],\n",
       "       [16.65261862],\n",
       "       [30.93634793],\n",
       "       [24.1650016 ],\n",
       "       [11.28155798],\n",
       "       [17.99790192],\n",
       "       [21.51797198],\n",
       "       [27.95709249],\n",
       "       [21.04570928],\n",
       "       [31.58222054],\n",
       "       [27.21046818],\n",
       "       [29.2998073 ],\n",
       "       [16.210838  ],\n",
       "       [30.28904854],\n",
       "       [19.56188408],\n",
       "       [26.4530542 ],\n",
       "       [26.99911212],\n",
       "       [20.57036995],\n",
       "       [30.44219518],\n",
       "       [31.09783751],\n",
       "       [19.59194181],\n",
       "       [16.48595705],\n",
       "       [25.28477367],\n",
       "       [22.10848236],\n",
       "       [23.83163744],\n",
       "       [16.82545321],\n",
       "       [13.56923808],\n",
       "       [28.87335999],\n",
       "       [12.88293344],\n",
       "       [30.9965956 ],\n",
       "       [32.51333466],\n",
       "       [30.00182129],\n",
       "       [11.31918277],\n",
       "       [18.10049955],\n",
       "       [32.80426906],\n",
       "       [26.27200766],\n",
       "       [21.11139073],\n",
       "       [17.86906527],\n",
       "       [32.14414669],\n",
       "       [20.32462736],\n",
       "       [14.96951621],\n",
       "       [23.8429234 ],\n",
       "       [32.12079954],\n",
       "       [34.53050441],\n",
       "       [25.02498008],\n",
       "       [28.1420465 ],\n",
       "       [25.9356578 ],\n",
       "       [19.4303707 ],\n",
       "       [19.17095088],\n",
       "       [29.52479928],\n",
       "       [29.18918535],\n",
       "       [20.26617046],\n",
       "       [28.49200415],\n",
       "       [31.91178162],\n",
       "       [12.70474523],\n",
       "       [30.42788135],\n",
       "       [24.58975757],\n",
       "       [21.802608  ],\n",
       "       [24.10603086],\n",
       "       [23.80667041],\n",
       "       [18.92676846],\n",
       "       [28.69580613],\n",
       "       [21.5438192 ],\n",
       "       [26.13769596],\n",
       "       [12.169458  ],\n",
       "       [32.11348344],\n",
       "       [28.41671434],\n",
       "       [15.47323895],\n",
       "       [16.88325701],\n",
       "       [ 9.97657473],\n",
       "       [21.06925406],\n",
       "       [25.77085013],\n",
       "       [21.60142382],\n",
       "       [22.3834664 ],\n",
       "       [26.30632077],\n",
       "       [15.6528186 ],\n",
       "       [27.27794482],\n",
       "       [22.02226375],\n",
       "       [25.62324184],\n",
       "       [22.26641294],\n",
       "       [30.88082291],\n",
       "       [17.63407043],\n",
       "       [14.33800784],\n",
       "       [25.43428628],\n",
       "       [17.87330683],\n",
       "       [20.11610796],\n",
       "       [29.96769892],\n",
       "       [25.85128602],\n",
       "       [28.51709659],\n",
       "       [27.71302313],\n",
       "       [10.2436812 ],\n",
       "       [28.44024905],\n",
       "       [19.80680747],\n",
       "       [23.13650953],\n",
       "       [13.9853271 ],\n",
       "       [27.77716413],\n",
       "       [22.76692968],\n",
       "       [15.27254767],\n",
       "       [32.35165781],\n",
       "       [22.19581096],\n",
       "       [33.19866227],\n",
       "       [ 8.66487338],\n",
       "       [28.25083617],\n",
       "       [27.07767456],\n",
       "       [10.43579232],\n",
       "       [15.58868079],\n",
       "       [25.26717489],\n",
       "       [27.63915676],\n",
       "       [29.07870028],\n",
       "       [25.57557714],\n",
       "       [14.08253535],\n",
       "       [24.55352598],\n",
       "       [28.126451  ],\n",
       "       [30.05373551],\n",
       "       [27.5749772 ],\n",
       "       [ 8.9029884 ],\n",
       "       [28.39833676],\n",
       "       [15.25120337],\n",
       "       [ 5.71223633],\n",
       "       [29.76863282],\n",
       "       [31.47938308],\n",
       "       [23.3503243 ],\n",
       "       [26.1332417 ],\n",
       "       [29.94754384],\n",
       "       [11.60696742],\n",
       "       [25.00375736],\n",
       "       [29.67659066],\n",
       "       [17.21720365],\n",
       "       [34.32106485],\n",
       "       [28.84375296],\n",
       "       [26.6031639 ],\n",
       "       [22.70934157],\n",
       "       [23.93650815],\n",
       "       [23.85994581],\n",
       "       [30.25602059],\n",
       "       [12.77346904],\n",
       "       [26.68326537],\n",
       "       [30.04576927],\n",
       "       [25.61811556],\n",
       "       [23.83012249],\n",
       "       [19.13858674],\n",
       "       [32.0245792 ],\n",
       "       [23.85748848],\n",
       "       [18.15515618],\n",
       "       [26.91800891],\n",
       "       [31.43378409],\n",
       "       [20.81880103],\n",
       "       [10.68828421],\n",
       "       [23.18797175],\n",
       "       [32.73341923],\n",
       "       [13.91924374],\n",
       "       [32.07090876],\n",
       "       [11.92385071],\n",
       "       [34.23959907],\n",
       "       [15.49163746],\n",
       "       [28.69231319],\n",
       "       [27.11945839],\n",
       "       [10.78306382],\n",
       "       [23.58319575],\n",
       "       [34.22133986],\n",
       "       [26.80142524],\n",
       "       [30.47924626],\n",
       "       [34.9916673 ],\n",
       "       [26.00583601],\n",
       "       [21.34686614],\n",
       "       [21.58978982],\n",
       "       [11.8004722 ],\n",
       "       [18.38569631],\n",
       "       [19.69546591],\n",
       "       [26.01579971],\n",
       "       [20.30884542],\n",
       "       [20.04398873],\n",
       "       [30.45776038],\n",
       "       [26.22039593],\n",
       "       [16.58493773],\n",
       "       [22.26219012],\n",
       "       [26.41907762],\n",
       "       [21.25142657],\n",
       "       [15.24004947],\n",
       "       [21.35450808],\n",
       "       [32.27063048],\n",
       "       [30.59808766],\n",
       "       [30.69390462]])"
      ]
     },
     "execution_count": 229,
     "metadata": {},
     "output_type": "execute_result"
    }
   ],
   "source": [
    "auto_y_pred09 = auto_model09.predict(X_train09)\n",
    "auto_y_pred09"
   ]
  },
  {
   "cell_type": "code",
   "execution_count": 230,
   "metadata": {},
   "outputs": [
    {
     "name": "stdout",
     "output_type": "stream",
     "text": [
      "r209 is: \n",
      "\n",
      "\n",
      "0.8109551916128583\n"
     ]
    }
   ],
   "source": [
    "# Calculating the r2\n",
    "r2_test09 = r2_score(y_train09, auto_y_pred09)\n",
    "\n",
    "print(\"r209 is: \")\n",
    "print(\"\\n\")\n",
    "print(r2_test09)"
   ]
  },
  {
   "cell_type": "markdown",
   "metadata": {},
   "source": [
    "Compute the r squared score for the smaller test set. Is there an improvement in the test r squared?"
   ]
  },
  {
   "cell_type": "code",
   "execution_count": 231,
   "metadata": {},
   "outputs": [],
   "source": [
    "# your code here\n"
   ]
  },
  {
   "cell_type": "markdown",
   "metadata": {},
   "source": [
    "# Bonus Challenge 2 - Backward Elimination \n",
    "\n",
    "The main way to produce a simpler linear regression model is to reduce the number of variables used in the model. In scikit-learn, we can do this by using recursive feature elimination. You can read more about RFE [here](https://scikit-learn.org/stable/modules/generated/sklearn.feature_selection.RFE.html).\n",
    "\n",
    "In the next cell, we will import RFE."
   ]
  },
  {
   "cell_type": "code",
   "execution_count": 232,
   "metadata": {},
   "outputs": [],
   "source": [
    "# Libraries\n",
    "from sklearn.feature_selection import RFE"
   ]
  },
  {
   "cell_type": "markdown",
   "metadata": {},
   "source": [
    "Follow the documentation and initialize an RFE model using the `auto_model` linear regression model. Set `n_features_to_select=3`."
   ]
  },
  {
   "cell_type": "code",
   "execution_count": 233,
   "metadata": {},
   "outputs": [],
   "source": [
    "# your code here\n"
   ]
  },
  {
   "cell_type": "markdown",
   "metadata": {},
   "source": [
    "Fit the model and print the ranking."
   ]
  },
  {
   "cell_type": "code",
   "execution_count": null,
   "metadata": {},
   "outputs": [],
   "source": []
  },
  {
   "cell_type": "code",
   "execution_count": 234,
   "metadata": {},
   "outputs": [],
   "source": [
    "# your code here\n"
   ]
  },
  {
   "cell_type": "markdown",
   "metadata": {},
   "source": [
    "Feature importance is ranked from most important (1) to least important (4). Generate a model with the three most important features. The features correspond to variable names. For example, feature 1 is `cylinders` and feature 2 is `displacement`.\n",
    "\n",
    "Perform a test-train split on this reduced column data and call the split data `X_train_reduced`, `X_test_reduced`, `y_test_reduced`, `y_train_reduced`. Use an 80% split."
   ]
  },
  {
   "cell_type": "code",
   "execution_count": 235,
   "metadata": {},
   "outputs": [],
   "source": [
    "# your code here\n"
   ]
  },
  {
   "cell_type": "markdown",
   "metadata": {},
   "source": [
    "Generate a new model called `auto_model_reduced` and fit this model. Then proceed to compute the r squared score for the model. Did this cause an improvement in the r squared score?"
   ]
  },
  {
   "cell_type": "code",
   "execution_count": 236,
   "metadata": {},
   "outputs": [],
   "source": [
    "# your code here\n"
   ]
  },
  {
   "cell_type": "markdown",
   "metadata": {},
   "source": [
    "#### Conclusion\n",
    "\n",
    "You may obtain the impression from this lab that without knowing statistical methods in depth, it is difficult to make major progress in machine learning. That is correct. If you are motivated to become a data scientist, statistics is the subject you must be proficient in and there is no shortcut. \n",
    "\n",
    "Completing these labs is not likely to make you a data scientist. But you will have a good sense about what are there in machine learning and what are good for you. In your future career, you can choose one of the three tracks:\n",
    "\n",
    "* Data scientists who need to be proficient in statistical methods.\n",
    "\n",
    "* Data engineers who need to be good at programming.\n",
    "\n",
    "* Data integration specialists who are business or content experts but also understand data and programming. This cross-disciplinary track brings together data, technology, and business and will be in high demands in the next decade."
   ]
  },
  {
   "cell_type": "code",
   "execution_count": 237,
   "metadata": {},
   "outputs": [],
   "source": [
    "'Lab thursday'\n",
    "from sklearn.tree import DecisionTreeRegressor\n",
    "from sklearn.tree import DecisionTreeClassifier\n",
    "from sklearn.model_selection import train_test_split\n",
    "from sklearn.tree import plot_tree\n",
    "import matplotlib.pyplot as plt"
   ]
  },
  {
   "cell_type": "code",
   "execution_count": 238,
   "metadata": {},
   "outputs": [],
   "source": [
    "model = DecisionTreeRegressor(max_depth=3)\n",
    "\n",
    "# Not needed because I'm using a decision tree\n",
    "#trans = PowerTransform(), StandardScaler()\n",
    "#trans.fit(X_train)\n",
    "\n",
    "model.fit(X_train, y_train)\n",
    "\n",
    "y_pred_train = model.predict(X_train)\n",
    "y_pred_test  = model.predict(X_test)"
   ]
  },
  {
   "cell_type": "code",
   "execution_count": 239,
   "metadata": {},
   "outputs": [],
   "source": [
    "model1 = DecisionTreeRegressor(max_depth=5)\n",
    "\n",
    "# Not needed because I'm using a decision tree\n",
    "#trans = PowerTransform(), StandardScaler()\n",
    "#trans.fit(X_train)\n",
    "\n",
    "model1.fit(X_train, y_train)\n",
    "\n",
    "y_pred_train = model1.predict(X_train)\n",
    "y_pred_test  = model1.predict(X_test)"
   ]
  },
  {
   "cell_type": "code",
   "execution_count": 240,
   "metadata": {},
   "outputs": [
    {
     "data": {
      "image/png": "[encoded data removed]",
      "text/plain": [
       "<Figure size 1200x1200 with 1 Axes>"
      ]
     },
     "metadata": {
      "needs_background": "light"
     },
     "output_type": "display_data"
    }
   ],
   "source": [
    "fig, axes = plt.subplots(nrows = 1,ncols = 1,figsize = (4,4), dpi=300)\n",
    "\n",
    "plot_tree(model,filled = True, rounded=True)\n",
    "plt.show()"
   ]
  },
  {
   "cell_type": "code",
   "execution_count": 244,
   "metadata": {},
   "outputs": [
    {
     "ename": "AttributeError",
     "evalue": "'numpy.ndarray' object has no attribute 'select_dtypes'",
     "output_type": "error",
     "traceback": [
      "\u001b[0;31m---------------------------------------------------------------------------\u001b[0m",
      "\u001b[0;31mAttributeError\u001b[0m                            Traceback (most recent call last)",
      "\u001b[0;32m<ipython-input-244-05c8d01a1ba3>\u001b[0m in \u001b[0;36m<module>\u001b[0;34m\u001b[0m\n\u001b[1;32m      2\u001b[0m \u001b[0;34m\u001b[0m\u001b[0m\n\u001b[1;32m      3\u001b[0m \u001b[0;34m\u001b[0m\u001b[0m\n\u001b[0;32m----> 4\u001b[0;31m \u001b[0mX_train\u001b[0m \u001b[0;34m=\u001b[0m \u001b[0mX_train\u001b[0m\u001b[0;34m.\u001b[0m\u001b[0mselect_dtypes\u001b[0m\u001b[0;34m(\u001b[0m\u001b[0minclude\u001b[0m\u001b[0;34m=\u001b[0m\u001b[0mnp\u001b[0m\u001b[0;34m.\u001b[0m\u001b[0mnumber\u001b[0m\u001b[0;34m)\u001b[0m\u001b[0;34m\u001b[0m\u001b[0;34m\u001b[0m\u001b[0m\n\u001b[0m\u001b[1;32m      5\u001b[0m \u001b[0mX_test\u001b[0m  \u001b[0;34m=\u001b[0m \u001b[0mX_test\u001b[0m\u001b[0;34m.\u001b[0m\u001b[0mselect_dtypes\u001b[0m\u001b[0;34m(\u001b[0m\u001b[0minclude\u001b[0m\u001b[0;34m=\u001b[0m\u001b[0mnp\u001b[0m\u001b[0;34m.\u001b[0m\u001b[0mnumber\u001b[0m\u001b[0;34m)\u001b[0m\u001b[0;34m\u001b[0m\u001b[0;34m\u001b[0m\u001b[0m\n\u001b[1;32m      6\u001b[0m \u001b[0;34m\u001b[0m\u001b[0m\n",
      "\u001b[0;31mAttributeError\u001b[0m: 'numpy.ndarray' object has no attribute 'select_dtypes'"
     ]
    }
   ],
   "source": [
    "from sklearn.feature_selection import VarianceThreshold # It only works with numerical features\n",
    "\n",
    "\n",
    "X_train = X_train.select_dtypes(include=np.number)\n",
    "X_test  = X_test.select_dtypes(include=np.number)\n",
    "\n",
    "#display(X_train)\n",
    "print(\"Initial number of numerical columns: \",X_train.shape)\n",
    "print()\n",
    "\n",
    "selector = VarianceThreshold(threshold=10) # Default threshold value is 0\n",
    "# Features with a training-set variance lower than this threshold will be removed.\n",
    "selector.fit(X_train)\n",
    "\n",
    "kept_features_indexes = selector.get_support(indices = True) #returns an array of integers corresponding to nonremoved features\n",
    "kept_features = list(X_train.iloc[:,kept_features_indexes].columns)\n",
    "\n",
    "X_train = selector.transform(X_train)\n",
    "X_test  = selector.transform(X_test)\n",
    "\n",
    "X_train = pd.DataFrame(X_train, columns=kept_features)\n",
    "X_test  = pd.DataFrame(X_test, columns=kept_features)\n",
    "\n",
    "print(\"Final number of numerical columns: \",X_train.shape)\n",
    "print()\n",
    "X_train"
   ]
  },
  {
   "cell_type": "code",
   "execution_count": 242,
   "metadata": {},
   "outputs": [],
   "source": [
    "from sklearn.metrics import mean_absolute_error, mean_squared_error, r2_score\n",
    "\n",
    "def performance_model(y_train, y_test, y_pred_train, y_pred_test):\n",
    "\n",
    "    # Model validation y_train - y_pred_train\n",
    "    ME_train = np.mean(y_train-y_pred_train)\n",
    "    ME_test  = np.mean(y_test-y_pred_test)\n",
    "\n",
    "    MAE_train = mean_absolute_error(y_train,y_pred_train)\n",
    "    MAE_test  = mean_absolute_error(y_test,y_pred_test)\n",
    "\n",
    "    MSE_train = mean_squared_error(y_train,y_pred_train)\n",
    "    MSE_test  = mean_squared_error(y_test,y_pred_test)\n",
    "\n",
    "    RMSE_train = np.sqrt(MSE_train)\n",
    "    RMSE_test  = np.sqrt(MSE_test)\n",
    "\n",
    "    MAPE_train = np.mean((np.abs(y_train-y_pred_train) / y_train)* 100.)\n",
    "    MAPE_test  = np.mean((np.abs(y_test-y_pred_test) / y_test)* 100.)\n",
    "\n",
    "    R2_train = r2_score(y_train,y_pred_train)\n",
    "    R2_test  = r2_score(y_test,y_pred_test)\n",
    "\n",
    "    performance = pd.DataFrame({'Error_metric': ['Mean error','Mean absolute error','Mean squared error',\n",
    "                                             'Root mean squared error','Mean absolute percentual error',\n",
    "                                             'R2'],\n",
    "                            'Train': [ME_train, MAE_train, MSE_train, RMSE_train, MAPE_train, R2_train],\n",
    "                            'Test' : [ME_test, MAE_test , MSE_test, RMSE_test, MAPE_test, R2_test]})\n",
    "\n",
    "    pd.options.display.float_format = '{:.2f}'.format\n",
    "\n",
    "\n",
    "    df_train = pd.DataFrame({'Real_value': y_train, 'Predicted_value': y_pred_train})\n",
    "    df_test  = pd.DataFrame({'Real_value': y_test,  'PRedicted_value': y_pred_test})\n",
    "\n",
    "    return performance, df_train, df_test"
   ]
  },
  {
   "cell_type": "code",
   "execution_count": 243,
   "metadata": {},
   "outputs": [
    {
     "ename": "Exception",
     "evalue": "Data must be 1-dimensional",
     "output_type": "error",
     "traceback": [
      "\u001b[0;31m---------------------------------------------------------------------------\u001b[0m",
      "\u001b[0;31mException\u001b[0m                                 Traceback (most recent call last)",
      "\u001b[0;32m<ipython-input-243-c81baaa8ecc7>\u001b[0m in \u001b[0;36m<module>\u001b[0;34m\u001b[0m\n\u001b[0;32m----> 1\u001b[0;31m \u001b[0mperformance\u001b[0m\u001b[0;34m,\u001b[0m \u001b[0m_\u001b[0m \u001b[0;34m,\u001b[0m\u001b[0m_\u001b[0m \u001b[0;34m=\u001b[0m \u001b[0mperformance_model\u001b[0m\u001b[0;34m(\u001b[0m\u001b[0my_train\u001b[0m\u001b[0;34m,\u001b[0m \u001b[0my_test\u001b[0m\u001b[0;34m,\u001b[0m \u001b[0my_pred_train\u001b[0m\u001b[0;34m,\u001b[0m \u001b[0my_pred_test\u001b[0m\u001b[0;34m)\u001b[0m\u001b[0;34m\u001b[0m\u001b[0;34m\u001b[0m\u001b[0m\n\u001b[0m\u001b[1;32m      2\u001b[0m \u001b[0mperformance\u001b[0m\u001b[0;34m\u001b[0m\u001b[0;34m\u001b[0m\u001b[0m\n",
      "\u001b[0;32m<ipython-input-242-708891d78745>\u001b[0m in \u001b[0;36mperformance_model\u001b[0;34m(y_train, y_test, y_pred_train, y_pred_test)\u001b[0m\n\u001b[1;32m     31\u001b[0m \u001b[0;34m\u001b[0m\u001b[0m\n\u001b[1;32m     32\u001b[0m \u001b[0;34m\u001b[0m\u001b[0m\n\u001b[0;32m---> 33\u001b[0;31m     \u001b[0mdf_train\u001b[0m \u001b[0;34m=\u001b[0m \u001b[0mpd\u001b[0m\u001b[0;34m.\u001b[0m\u001b[0mDataFrame\u001b[0m\u001b[0;34m(\u001b[0m\u001b[0;34m{\u001b[0m\u001b[0;34m'Real_value'\u001b[0m\u001b[0;34m:\u001b[0m \u001b[0my_train\u001b[0m\u001b[0;34m,\u001b[0m \u001b[0;34m'Predicted_value'\u001b[0m\u001b[0;34m:\u001b[0m \u001b[0my_pred_train\u001b[0m\u001b[0;34m}\u001b[0m\u001b[0;34m)\u001b[0m\u001b[0;34m\u001b[0m\u001b[0;34m\u001b[0m\u001b[0m\n\u001b[0m\u001b[1;32m     34\u001b[0m     \u001b[0mdf_test\u001b[0m  \u001b[0;34m=\u001b[0m \u001b[0mpd\u001b[0m\u001b[0;34m.\u001b[0m\u001b[0mDataFrame\u001b[0m\u001b[0;34m(\u001b[0m\u001b[0;34m{\u001b[0m\u001b[0;34m'Real_value'\u001b[0m\u001b[0;34m:\u001b[0m \u001b[0my_test\u001b[0m\u001b[0;34m,\u001b[0m  \u001b[0;34m'PRedicted_value'\u001b[0m\u001b[0;34m:\u001b[0m \u001b[0my_pred_test\u001b[0m\u001b[0;34m}\u001b[0m\u001b[0;34m)\u001b[0m\u001b[0;34m\u001b[0m\u001b[0;34m\u001b[0m\u001b[0m\n\u001b[1;32m     35\u001b[0m \u001b[0;34m\u001b[0m\u001b[0m\n",
      "\u001b[0;32m~/opt/anaconda3/lib/python3.8/site-packages/pandas/core/frame.py\u001b[0m in \u001b[0;36m__init__\u001b[0;34m(self, data, index, columns, dtype, copy)\u001b[0m\n\u001b[1;32m    466\u001b[0m \u001b[0;34m\u001b[0m\u001b[0m\n\u001b[1;32m    467\u001b[0m         \u001b[0;32melif\u001b[0m \u001b[0misinstance\u001b[0m\u001b[0;34m(\u001b[0m\u001b[0mdata\u001b[0m\u001b[0;34m,\u001b[0m \u001b[0mdict\u001b[0m\u001b[0;34m)\u001b[0m\u001b[0;34m:\u001b[0m\u001b[0;34m\u001b[0m\u001b[0;34m\u001b[0m\u001b[0m\n\u001b[0;32m--> 468\u001b[0;31m             \u001b[0mmgr\u001b[0m \u001b[0;34m=\u001b[0m \u001b[0minit_dict\u001b[0m\u001b[0;34m(\u001b[0m\u001b[0mdata\u001b[0m\u001b[0;34m,\u001b[0m \u001b[0mindex\u001b[0m\u001b[0;34m,\u001b[0m \u001b[0mcolumns\u001b[0m\u001b[0;34m,\u001b[0m \u001b[0mdtype\u001b[0m\u001b[0;34m=\u001b[0m\u001b[0mdtype\u001b[0m\u001b[0;34m)\u001b[0m\u001b[0;34m\u001b[0m\u001b[0;34m\u001b[0m\u001b[0m\n\u001b[0m\u001b[1;32m    469\u001b[0m         \u001b[0;32melif\u001b[0m \u001b[0misinstance\u001b[0m\u001b[0;34m(\u001b[0m\u001b[0mdata\u001b[0m\u001b[0;34m,\u001b[0m \u001b[0mma\u001b[0m\u001b[0;34m.\u001b[0m\u001b[0mMaskedArray\u001b[0m\u001b[0;34m)\u001b[0m\u001b[0;34m:\u001b[0m\u001b[0;34m\u001b[0m\u001b[0;34m\u001b[0m\u001b[0m\n\u001b[1;32m    470\u001b[0m             \u001b[0;32mimport\u001b[0m \u001b[0mnumpy\u001b[0m\u001b[0;34m.\u001b[0m\u001b[0mma\u001b[0m\u001b[0;34m.\u001b[0m\u001b[0mmrecords\u001b[0m \u001b[0;32mas\u001b[0m \u001b[0mmrecords\u001b[0m\u001b[0;34m\u001b[0m\u001b[0;34m\u001b[0m\u001b[0m\n",
      "\u001b[0;32m~/opt/anaconda3/lib/python3.8/site-packages/pandas/core/internals/construction.py\u001b[0m in \u001b[0;36minit_dict\u001b[0;34m(data, index, columns, dtype)\u001b[0m\n\u001b[1;32m    281\u001b[0m             \u001b[0marr\u001b[0m \u001b[0;32mif\u001b[0m \u001b[0;32mnot\u001b[0m \u001b[0mis_datetime64tz_dtype\u001b[0m\u001b[0;34m(\u001b[0m\u001b[0marr\u001b[0m\u001b[0;34m)\u001b[0m \u001b[0;32melse\u001b[0m \u001b[0marr\u001b[0m\u001b[0;34m.\u001b[0m\u001b[0mcopy\u001b[0m\u001b[0;34m(\u001b[0m\u001b[0;34m)\u001b[0m \u001b[0;32mfor\u001b[0m \u001b[0marr\u001b[0m \u001b[0;32min\u001b[0m \u001b[0marrays\u001b[0m\u001b[0;34m\u001b[0m\u001b[0;34m\u001b[0m\u001b[0m\n\u001b[1;32m    282\u001b[0m         ]\n\u001b[0;32m--> 283\u001b[0;31m     \u001b[0;32mreturn\u001b[0m \u001b[0marrays_to_mgr\u001b[0m\u001b[0;34m(\u001b[0m\u001b[0marrays\u001b[0m\u001b[0;34m,\u001b[0m \u001b[0mdata_names\u001b[0m\u001b[0;34m,\u001b[0m \u001b[0mindex\u001b[0m\u001b[0;34m,\u001b[0m \u001b[0mcolumns\u001b[0m\u001b[0;34m,\u001b[0m \u001b[0mdtype\u001b[0m\u001b[0;34m=\u001b[0m\u001b[0mdtype\u001b[0m\u001b[0;34m)\u001b[0m\u001b[0;34m\u001b[0m\u001b[0;34m\u001b[0m\u001b[0m\n\u001b[0m\u001b[1;32m    284\u001b[0m \u001b[0;34m\u001b[0m\u001b[0m\n\u001b[1;32m    285\u001b[0m \u001b[0;34m\u001b[0m\u001b[0m\n",
      "\u001b[0;32m~/opt/anaconda3/lib/python3.8/site-packages/pandas/core/internals/construction.py\u001b[0m in \u001b[0;36marrays_to_mgr\u001b[0;34m(arrays, arr_names, index, columns, dtype, verify_integrity)\u001b[0m\n\u001b[1;32m     81\u001b[0m \u001b[0;34m\u001b[0m\u001b[0m\n\u001b[1;32m     82\u001b[0m         \u001b[0;31m# don't force copy because getting jammed in an ndarray anyway\u001b[0m\u001b[0;34m\u001b[0m\u001b[0;34m\u001b[0m\u001b[0;34m\u001b[0m\u001b[0m\n\u001b[0;32m---> 83\u001b[0;31m         \u001b[0marrays\u001b[0m \u001b[0;34m=\u001b[0m \u001b[0m_homogenize\u001b[0m\u001b[0;34m(\u001b[0m\u001b[0marrays\u001b[0m\u001b[0;34m,\u001b[0m \u001b[0mindex\u001b[0m\u001b[0;34m,\u001b[0m \u001b[0mdtype\u001b[0m\u001b[0;34m)\u001b[0m\u001b[0;34m\u001b[0m\u001b[0;34m\u001b[0m\u001b[0m\n\u001b[0m\u001b[1;32m     84\u001b[0m \u001b[0;34m\u001b[0m\u001b[0m\n\u001b[1;32m     85\u001b[0m         \u001b[0mcolumns\u001b[0m \u001b[0;34m=\u001b[0m \u001b[0mensure_index\u001b[0m\u001b[0;34m(\u001b[0m\u001b[0mcolumns\u001b[0m\u001b[0;34m)\u001b[0m\u001b[0;34m\u001b[0m\u001b[0;34m\u001b[0m\u001b[0m\n",
      "\u001b[0;32m~/opt/anaconda3/lib/python3.8/site-packages/pandas/core/internals/construction.py\u001b[0m in \u001b[0;36m_homogenize\u001b[0;34m(data, index, dtype)\u001b[0m\n\u001b[1;32m    349\u001b[0m                     \u001b[0mval\u001b[0m \u001b[0;34m=\u001b[0m \u001b[0mdict\u001b[0m\u001b[0;34m(\u001b[0m\u001b[0mval\u001b[0m\u001b[0;34m)\u001b[0m\u001b[0;34m\u001b[0m\u001b[0;34m\u001b[0m\u001b[0m\n\u001b[1;32m    350\u001b[0m                 \u001b[0mval\u001b[0m \u001b[0;34m=\u001b[0m \u001b[0mlib\u001b[0m\u001b[0;34m.\u001b[0m\u001b[0mfast_multiget\u001b[0m\u001b[0;34m(\u001b[0m\u001b[0mval\u001b[0m\u001b[0;34m,\u001b[0m \u001b[0moindex\u001b[0m\u001b[0;34m.\u001b[0m\u001b[0m_values\u001b[0m\u001b[0;34m,\u001b[0m \u001b[0mdefault\u001b[0m\u001b[0;34m=\u001b[0m\u001b[0mnp\u001b[0m\u001b[0;34m.\u001b[0m\u001b[0mnan\u001b[0m\u001b[0;34m)\u001b[0m\u001b[0;34m\u001b[0m\u001b[0;34m\u001b[0m\u001b[0m\n\u001b[0;32m--> 351\u001b[0;31m             val = sanitize_array(\n\u001b[0m\u001b[1;32m    352\u001b[0m                 \u001b[0mval\u001b[0m\u001b[0;34m,\u001b[0m \u001b[0mindex\u001b[0m\u001b[0;34m,\u001b[0m \u001b[0mdtype\u001b[0m\u001b[0;34m=\u001b[0m\u001b[0mdtype\u001b[0m\u001b[0;34m,\u001b[0m \u001b[0mcopy\u001b[0m\u001b[0;34m=\u001b[0m\u001b[0;32mFalse\u001b[0m\u001b[0;34m,\u001b[0m \u001b[0mraise_cast_failure\u001b[0m\u001b[0;34m=\u001b[0m\u001b[0;32mFalse\u001b[0m\u001b[0;34m\u001b[0m\u001b[0;34m\u001b[0m\u001b[0m\n\u001b[1;32m    353\u001b[0m             )\n",
      "\u001b[0;32m~/opt/anaconda3/lib/python3.8/site-packages/pandas/core/construction.py\u001b[0m in \u001b[0;36msanitize_array\u001b[0;34m(data, index, dtype, copy, raise_cast_failure)\u001b[0m\n\u001b[1;32m    494\u001b[0m     \u001b[0;32melif\u001b[0m \u001b[0msubarr\u001b[0m\u001b[0;34m.\u001b[0m\u001b[0mndim\u001b[0m \u001b[0;34m>\u001b[0m \u001b[0;36m1\u001b[0m\u001b[0;34m:\u001b[0m\u001b[0;34m\u001b[0m\u001b[0;34m\u001b[0m\u001b[0m\n\u001b[1;32m    495\u001b[0m         \u001b[0;32mif\u001b[0m \u001b[0misinstance\u001b[0m\u001b[0;34m(\u001b[0m\u001b[0mdata\u001b[0m\u001b[0;34m,\u001b[0m \u001b[0mnp\u001b[0m\u001b[0;34m.\u001b[0m\u001b[0mndarray\u001b[0m\u001b[0;34m)\u001b[0m\u001b[0;34m:\u001b[0m\u001b[0;34m\u001b[0m\u001b[0;34m\u001b[0m\u001b[0m\n\u001b[0;32m--> 496\u001b[0;31m             \u001b[0;32mraise\u001b[0m \u001b[0mException\u001b[0m\u001b[0;34m(\u001b[0m\u001b[0;34m\"Data must be 1-dimensional\"\u001b[0m\u001b[0;34m)\u001b[0m\u001b[0;34m\u001b[0m\u001b[0;34m\u001b[0m\u001b[0m\n\u001b[0m\u001b[1;32m    497\u001b[0m         \u001b[0;32melse\u001b[0m\u001b[0;34m:\u001b[0m\u001b[0;34m\u001b[0m\u001b[0;34m\u001b[0m\u001b[0m\n\u001b[1;32m    498\u001b[0m             \u001b[0msubarr\u001b[0m \u001b[0;34m=\u001b[0m \u001b[0mcom\u001b[0m\u001b[0;34m.\u001b[0m\u001b[0masarray_tuplesafe\u001b[0m\u001b[0;34m(\u001b[0m\u001b[0mdata\u001b[0m\u001b[0;34m,\u001b[0m \u001b[0mdtype\u001b[0m\u001b[0;34m=\u001b[0m\u001b[0mdtype\u001b[0m\u001b[0;34m)\u001b[0m\u001b[0;34m\u001b[0m\u001b[0;34m\u001b[0m\u001b[0m\n",
      "\u001b[0;31mException\u001b[0m: Data must be 1-dimensional"
     ]
    }
   ],
   "source": [
    "performance, _ ,_ = performance_model(y_train, y_test, y_pred_train, y_pred_test)\n",
    "performance"
   ]
  },
  {
   "cell_type": "code",
   "execution_count": null,
   "metadata": {},
   "outputs": [],
   "source": []
  },
  {
   "cell_type": "code",
   "execution_count": null,
   "metadata": {},
   "outputs": [],
   "source": []
  },
  {
   "cell_type": "code",
   "execution_count": null,
   "metadata": {},
   "outputs": [],
   "source": []
  },
  {
   "cell_type": "code",
   "execution_count": null,
   "metadata": {},
   "outputs": [],
   "source": []
  }
 ],
 "metadata": {
  "kernelspec": {
   "display_name": "Python 3",
   "language": "python",
   "name": "python3"
  },
  "language_info": {
   "codemirror_mode": {
    "name": "ipython",
    "version": 3
   },
   "file_extension": ".py",
   "mimetype": "text/x-python",
   "name": "python",
   "nbconvert_exporter": "python",
   "pygments_lexer": "ipython3",
   "version": "3.8.5"
  }
 },
 "nbformat": 4,
 "nbformat_minor": 2
}
